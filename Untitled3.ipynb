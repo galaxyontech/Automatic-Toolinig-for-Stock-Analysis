{
 "cells": [
  {
   "cell_type": "code",
   "execution_count": 4,
   "id": "17282525-4947-4cb9-a966-970cbab297f0",
   "metadata": {
    "tags": []
   },
   "outputs": [
    {
     "ename": "NameError",
     "evalue": "name 'word' is not defined",
     "output_type": "error",
     "traceback": [
      "\u001b[1;31m---------------------------------------------------------------------------\u001b[0m",
      "\u001b[1;31mNameError\u001b[0m                                 Traceback (most recent call last)",
      "Cell \u001b[1;32mIn[4], line 6\u001b[0m\n\u001b[0;32m      4\u001b[0m \u001b[38;5;28;01mfor\u001b[39;00m w \u001b[38;5;129;01min\u001b[39;00m related_key_words:\n\u001b[0;32m      5\u001b[0m     googlenews \u001b[38;5;241m=\u001b[39m GoogleNews(period\u001b[38;5;241m=\u001b[39m\u001b[38;5;124m'\u001b[39m\u001b[38;5;124m1d\u001b[39m\u001b[38;5;124m'\u001b[39m)\n\u001b[1;32m----> 6\u001b[0m     googlenews\u001b[38;5;241m.\u001b[39msearch(\u001b[43mword\u001b[49m \u001b[38;5;241m+\u001b[39m \u001b[38;5;124m\"\u001b[39m\u001b[38;5;124m \u001b[39m\u001b[38;5;124m\"\u001b[39m \u001b[38;5;241m+\u001b[39m w)\n\u001b[0;32m      7\u001b[0m     results \u001b[38;5;241m=\u001b[39m googlenews\u001b[38;5;241m.\u001b[39mresult(sort\u001b[38;5;241m=\u001b[39m\u001b[38;5;28;01mTrue\u001b[39;00m)  \u001b[38;5;66;03m# list\u001b[39;00m\n\u001b[0;32m      8\u001b[0m     \u001b[38;5;28mprint\u001b[39m(googlenews\u001b[38;5;241m.\u001b[39mget_texts())\n",
      "\u001b[1;31mNameError\u001b[0m: name 'word' is not defined"
     ]
    }
   ],
   "source": [
    "related_key_words = [\"\", \"company\", \"stock\"]\n",
    "dedupped_results = {}\n",
    "# get search result as list named results\n",
    "for w in related_key_words:\n",
    "    googlenews = GoogleNews(period='1d')\n",
    "    googlenews.search(word + \" \" + w)\n",
    "    results = googlenews.result(sort=True)  # list\n",
    "    print(googlenews.get_texts())\n",
    "    for r in results:\n",
    "        print(type(r))\n",
    "        if \",\" not in r['date']:  # remove failed results\n",
    "            dedupped_results[r['link']] = r\n",
    "    googlenews.clear()"
   ]
  },
  {
   "cell_type": "code",
   "execution_count": 5,
   "id": "93d3f754-1133-4ded-b0de-14dc16a741f9",
   "metadata": {
    "tags": []
   },
   "outputs": [],
   "source": [
    "import logging\n",
    "import threading\n",
    "import time\n",
    "from GoogleNews import GoogleNews\n",
    "from newspaper import Article\n",
    "from typing import Any, List\n",
    "import os\n",
    "import json\n",
    "import logging\n",
    "from Code.News.news import New\n",
    "from newspaper import Config\n"
   ]
  },
  {
   "cell_type": "code",
   "execution_count": 11,
   "id": "d42f2945-44a1-40c1-9a35-23acb9e62956",
   "metadata": {
    "tags": []
   },
   "outputs": [
    {
     "name": "stdout",
     "output_type": "stream",
     "text": [
      "['COVID-19 Impact Analysis of Mixed Reality Game Market 2029 | Key Players Canon Inc. PlayStation Oculus Seiko ...', 'Those who invested in Meta Bright Group Berhad (KLSE:MBRIGHT) three years ago are up 212%', 'Meta’s new parental tools will not protect vulnerable children, experts say', 'Zuckerberg Enters The Ring With Apple Vision: Annual Salary Of Meta VR Developer More Than Average Americ', \"Cambodian ruler's Facebook account goes dark after spat with Meta\", 'Central Illinois wind farm will help power Facebook parent Meta data center', 'Draft EU artificial intelligence rules could hurt Europe, executives say', 'Tech stocks close out best first half in 40 years, powered by Apple rally and Nvidia boom', 'Time to Buy Meta Platforms? Its New AI Strategy Could Silence Skeptics.', 'Nearly 194,000 Laid Off In 2023 So Far As U.S. Layoffs Surge']\n"
     ]
    }
   ],
   "source": [
    "related_key_words = [\"\", \"company\", \"stock\"]\n",
    "dedupped_results = {}\n",
    "# get search result as list named results\n",
    "\n",
    "googlenews = GoogleNews(period='1d')\n",
    "googlenews.search(\"Meta Company\")\n",
    "results = googlenews.result(sort=True)  # list\n",
    "print(googlenews.get_texts())\n",
    "googlenews.clear()"
   ]
  },
  {
   "cell_type": "code",
   "execution_count": null,
   "id": "7bab976b-d3b4-41ef-a0fa-35c5f2e27f36",
   "metadata": {},
   "outputs": [],
   "source": []
  }
 ],
 "metadata": {
  "kernelspec": {
   "display_name": "Python 3 (ipykernel)",
   "language": "python",
   "name": "python3"
  },
  "language_info": {
   "codemirror_mode": {
    "name": "ipython",
    "version": 3
   },
   "file_extension": ".py",
   "mimetype": "text/x-python",
   "name": "python",
   "nbconvert_exporter": "python",
   "pygments_lexer": "ipython3",
   "version": "3.9.13"
  }
 },
 "nbformat": 4,
 "nbformat_minor": 5
}
