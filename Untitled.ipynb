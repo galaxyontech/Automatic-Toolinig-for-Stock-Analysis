{
 "cells": [
  {
   "cell_type": "code",
   "execution_count": 1,
   "metadata": {},
   "outputs": [
    {
     "name": "stderr",
     "output_type": "stream",
     "text": [
      "/Users/zeruiji/opt/anaconda3/lib/python3.8/site-packages/pandas/core/computation/expressions.py:20: UserWarning: Pandas requires version '2.7.3' or newer of 'numexpr' (version '2.7.1' currently installed).\n",
      "  from pandas.core.computation.check import NUMEXPR_INSTALLED\n"
     ]
    },
    {
     "name": "stdout",
     "output_type": "stream",
     "text": [
      "  (0, 11)\t0.7071067811865475\n",
      "  (0, 4)\t0.7071067811865475\n",
      "  (1, 8)\t0.7071067811865475\n",
      "  (1, 0)\t0.7071067811865475\n",
      "  (2, 1)\t0.5098138992318764\n",
      "  (2, 3)\t0.6083131546128155\n",
      "  (2, 5)\t0.6083131546128155\n",
      "  (3, 1)\t1.0\n",
      "  (4, 13)\t0.7071067811865475\n",
      "  (4, 6)\t0.7071067811865475\n",
      "  (5, 7)\t0.5773502691896258\n",
      "  (5, 10)\t0.5773502691896258\n",
      "  (5, 9)\t0.5773502691896258\n",
      "  (6, 2)\t1.0\n",
      "  (7, 12)\t1.0\n",
      "vectorization done in 0.003 s\n",
      "n_samples: 8, n_features: 14\n"
     ]
    }
   ],
   "source": [
    "from time import time\n",
    "from typing import List\n",
    "\n",
    "import numpy as np\n",
    "import pandas as pd\n",
    "import wikipedia\n",
    "from sklearn.feature_extraction.text import TfidfVectorizer\n",
    "\n",
    "\n",
    "def clusering():\n",
    "    articles = ['Data Science', 'Artificial intelligence', 'European Central Bank', 'Bank',\n",
    "                'Financial technology', 'International Monetary Fund', 'Basketball', 'Swimming']\n",
    "    wiki_lst = []\n",
    "    title = []\n",
    "    for article in articles:\n",
    "        wiki_lst.append(wikipedia.page(article).content)\n",
    "        title.append(article)\n",
    "\n",
    "    vectorizer = TfidfVectorizer(\n",
    "        stop_words=\"english\",\n",
    "    )\n",
    "    t0 = time()\n",
    "    X_tfidf = vectorizer.fit_transform(articles)\n",
    "    print(X_tfidf)\n",
    "    print(f\"vectorization done in {time() - t0:.3f} s\")\n",
    "    print(f\"n_samples: {X_tfidf.shape[0]}, n_features: {X_tfidf.shape[1]}\")\n",
    "\n",
    "    from sklearn.cluster import KMeans\n",
    "\n",
    "\n",
    "\n",
    "\n",
    "class NewsClustering:\n",
    "    documents: List[str]\n",
    "\n",
    "    def __init__(self, documents=None, ):\n",
    "        if documents is None:\n",
    "            documents = []\n",
    "        self.documents = documents\n",
    "\n",
    "\n",
    "sample_clustering = NewsClustering()\n",
    "clusering()"
   ]
  },
  {
   "cell_type": "code",
   "execution_count": 2,
   "metadata": {},
   "outputs": [
    {
     "name": "stdout",
     "output_type": "stream",
     "text": [
      "['Data Science', 'Artificial intelligence', 'European Central Bank', 'Bank', 'Financial technology', 'International Monetary Fund', 'Basketball', 'Swimming']\n",
      "['artificial', 'bank', 'basketball', 'central', 'data', 'european', 'financial', 'fund', 'intelligence', 'international', 'monetary', 'science', 'swimming', 'technology']\n",
      "  (0, 11)\t0.7071067811865475\n",
      "  (0, 4)\t0.7071067811865475\n",
      "  (1, 8)\t0.7071067811865475\n",
      "  (1, 0)\t0.7071067811865475\n",
      "  (2, 1)\t0.5098138992318764\n",
      "  (2, 3)\t0.6083131546128155\n",
      "  (2, 5)\t0.6083131546128155\n",
      "  (3, 1)\t1.0\n",
      "  (4, 13)\t0.7071067811865475\n",
      "  (4, 6)\t0.7071067811865475\n",
      "  (5, 7)\t0.5773502691896258\n",
      "  (5, 10)\t0.5773502691896258\n",
      "  (5, 9)\t0.5773502691896258\n",
      "  (6, 2)\t1.0\n",
      "  (7, 12)\t1.0\n",
      "vectorization done in 0.003 s\n",
      "n_samples: 8, n_features: 14\n"
     ]
    }
   ],
   "source": [
    "articles = ['Data Science', 'Artificial intelligence', 'European Central Bank', 'Bank',\n",
    "            'Financial technology', 'International Monetary Fund', 'Basketball', 'Swimming']\n",
    "wiki_lst = []\n",
    "title = []\n",
    "for article in articles:\n",
    "    wiki_lst.append(wikipedia.page(article).content)\n",
    "    title.append(article)\n",
    "\n",
    "vectorizer = TfidfVectorizer(\n",
    "    stop_words=\"english\",\n",
    ")\n",
    "print(articles)\n",
    "t0 = time()\n",
    "X_tfidf = vectorizer.fit_transform(articles)\n",
    "print(vectorizer.get_feature_names())\n",
    "print(X_tfidf)\n",
    "print(f\"vectorization done in {time() - t0:.3f} s\")\n",
    "print(f\"n_samples: {X_tfidf.shape[0]}, n_features: {X_tfidf.shape[1]}\")\n",
    "\n",
    "from sklearn.cluster import KMeans"
   ]
  },
  {
   "cell_type": "code",
   "execution_count": 3,
   "metadata": {},
   "outputs": [
    {
     "data": {
      "text/plain": [
       "array([[0.        , 0.        , 0.        , 0.        , 0.70710678,\n",
       "        0.        , 0.        , 0.        , 0.        , 0.        ,\n",
       "        0.        , 0.70710678, 0.        , 0.        ],\n",
       "       [0.70710678, 0.        , 0.        , 0.        , 0.        ,\n",
       "        0.        , 0.        , 0.        , 0.70710678, 0.        ,\n",
       "        0.        , 0.        , 0.        , 0.        ],\n",
       "       [0.        , 0.5098139 , 0.        , 0.60831315, 0.        ,\n",
       "        0.60831315, 0.        , 0.        , 0.        , 0.        ,\n",
       "        0.        , 0.        , 0.        , 0.        ],\n",
       "       [0.        , 1.        , 0.        , 0.        , 0.        ,\n",
       "        0.        , 0.        , 0.        , 0.        , 0.        ,\n",
       "        0.        , 0.        , 0.        , 0.        ],\n",
       "       [0.        , 0.        , 0.        , 0.        , 0.        ,\n",
       "        0.        , 0.70710678, 0.        , 0.        , 0.        ,\n",
       "        0.        , 0.        , 0.        , 0.70710678],\n",
       "       [0.        , 0.        , 0.        , 0.        , 0.        ,\n",
       "        0.        , 0.        , 0.57735027, 0.        , 0.57735027,\n",
       "        0.57735027, 0.        , 0.        , 0.        ],\n",
       "       [0.        , 0.        , 1.        , 0.        , 0.        ,\n",
       "        0.        , 0.        , 0.        , 0.        , 0.        ,\n",
       "        0.        , 0.        , 0.        , 0.        ],\n",
       "       [0.        , 0.        , 0.        , 0.        , 0.        ,\n",
       "        0.        , 0.        , 0.        , 0.        , 0.        ,\n",
       "        0.        , 0.        , 1.        , 0.        ]])"
      ]
     },
     "execution_count": 3,
     "metadata": {},
     "output_type": "execute_result"
    }
   ],
   "source": [
    "X_tfidf.toarray()"
   ]
  },
  {
   "cell_type": "code",
   "execution_count": 4,
   "metadata": {},
   "outputs": [
    {
     "ename": "NameError",
     "evalue": "name 'array' is not defined",
     "output_type": "error",
     "traceback": [
      "\u001b[0;31m---------------------------------------------------------------------------\u001b[0m",
      "\u001b[0;31mNameError\u001b[0m                                 Traceback (most recent call last)",
      "\u001b[0;32m<ipython-input-4-948b726ccd4f>\u001b[0m in \u001b[0;36m<module>\u001b[0;34m\u001b[0m\n\u001b[1;32m      9\u001b[0m \u001b[0mX\u001b[0m \u001b[0;34m=\u001b[0m \u001b[0mvectorizer\u001b[0m\u001b[0;34m.\u001b[0m\u001b[0mfit_transform\u001b[0m\u001b[0;34m(\u001b[0m\u001b[0mcorpus\u001b[0m\u001b[0;34m)\u001b[0m\u001b[0;34m\u001b[0m\u001b[0;34m\u001b[0m\u001b[0m\n\u001b[1;32m     10\u001b[0m \u001b[0mvectorizer\u001b[0m\u001b[0;34m.\u001b[0m\u001b[0mget_feature_names\u001b[0m\u001b[0;34m(\u001b[0m\u001b[0;34m)\u001b[0m\u001b[0;34m\u001b[0m\u001b[0;34m\u001b[0m\u001b[0m\n\u001b[0;32m---> 11\u001b[0;31m array(['and', 'document', 'first', 'is', 'one', 'second', 'the', 'third',\n\u001b[0m\u001b[1;32m     12\u001b[0m    'this'], ...)\n\u001b[1;32m     13\u001b[0m \u001b[0mprint\u001b[0m\u001b[0;34m(\u001b[0m\u001b[0mX\u001b[0m\u001b[0;34m.\u001b[0m\u001b[0mshape\u001b[0m\u001b[0;34m)\u001b[0m\u001b[0;34m\u001b[0m\u001b[0;34m\u001b[0m\u001b[0m\n",
      "\u001b[0;31mNameError\u001b[0m: name 'array' is not defined"
     ]
    }
   ],
   "source": [
    "from sklearn.feature_extraction.text import TfidfVectorizer\n",
    "corpus = [\n",
    " 'This is the first document.',\n",
    "'This document is the second document.',\n",
    " 'And this is the third one.',\n",
    " 'Is this the first document?',\n",
    "]\n",
    "vectorizer = TfidfVectorizer()\n",
    "X = vectorizer.fit_transform(corpus)\n",
    "vectorizer.get_feature_names()\n",
    "array(['and', 'document', 'first', 'is', 'one', 'second', 'the', 'third',\n",
    "   'this'], ...)\n",
    "print(X.shape)\n",
    "(4, 9)"
   ]
  },
  {
   "cell_type": "code",
   "execution_count": null,
   "metadata": {},
   "outputs": [],
   "source": [
    "pip install numpy==1.20.3\n"
   ]
  },
  {
   "cell_type": "code",
   "execution_count": null,
   "metadata": {},
   "outputs": [],
   "source": [
    "pip install scikit-image"
   ]
  },
  {
   "cell_type": "code",
   "execution_count": 5,
   "metadata": {},
   "outputs": [],
   "source": [
    "import pandas as pd \n",
    "\n",
    "from sklearn.datasets import fetch_20newsgroups\n",
    "from sklearn.feature_extraction.text import TfidfVectorizer "
   ]
  },
  {
   "cell_type": "code",
   "execution_count": 6,
   "metadata": {},
   "outputs": [],
   "source": [
    "import matplotlib.pyplot as plt "
   ]
  },
  {
   "cell_type": "code",
   "execution_count": null,
   "metadata": {},
   "outputs": [],
   "source": []
  },
  {
   "cell_type": "code",
   "execution_count": 7,
   "metadata": {},
   "outputs": [],
   "source": [
    "dataset2 = fetch_20newsgroups(subset = 'all',shuffle=True, random_state = 24 , remove = (\"headers\",\"footers\",\"quotes\"))"
   ]
  },
  {
   "cell_type": "code",
   "execution_count": null,
   "metadata": {},
   "outputs": [],
   "source": [
    "pip install sentence_transformers"
   ]
  },
  {
   "cell_type": "code",
   "execution_count": null,
   "metadata": {},
   "outputs": [],
   "source": [
    "from sklearn.manifold import TSNE\n",
    "from sentence_transformers import SentenceTransformer\n",
    "\n",
    "bert_transformer_model = SentenceTransformer('paraphrase-distilroberta-base-v1')\n",
    "sentence_embedding = bert_transformer_model.encode(dataset2.data)\n",
    "list_form_of_dataset2 = list(sentence_embedding)\n",
    "X_embedded = TSNE(n_components=2).fit_transform(list_form_of_dataset2)\n"
   ]
  },
  {
   "cell_type": "code",
   "execution_count": null,
   "metadata": {},
   "outputs": [],
   "source": [
    "import plotly.express as px\n",
    "\n",
    "fig = px.scatter(\n",
    "    df_embeddings, x='x', y='y',\n",
    "    color='label', labels={'color': 'label'},\n",
    "    hover_data=['text'], title = 'GoEmotions Embedding Visualization')\n",
    "fig.show()"
   ]
  },
  {
   "cell_type": "code",
   "execution_count": null,
   "metadata": {},
   "outputs": [],
   "source": []
  },
  {
   "cell_type": "code",
   "execution_count": null,
   "metadata": {},
   "outputs": [],
   "source": []
  }
 ],
 "metadata": {
  "kernelspec": {
   "display_name": "Python 3 (ipykernel)",
   "language": "python",
   "name": "python3"
  },
  "language_info": {
   "codemirror_mode": {
    "name": "ipython",
    "version": 3
   },
   "file_extension": ".py",
   "mimetype": "text/x-python",
   "name": "python",
   "nbconvert_exporter": "python",
   "pygments_lexer": "ipython3",
   "version": "3.9.13"
  }
 },
 "nbformat": 4,
 "nbformat_minor": 4
}
