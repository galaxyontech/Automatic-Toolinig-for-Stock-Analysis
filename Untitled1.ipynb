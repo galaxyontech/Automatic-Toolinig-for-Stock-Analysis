{
 "cells": [
  {
   "cell_type": "code",
   "execution_count": null,
   "id": "af62829f-f502-4cc0-979f-0fdc60fcd69d",
   "metadata": {
    "tags": []
   },
   "outputs": [],
   "source": []
  },
  {
   "cell_type": "code",
   "execution_count": null,
   "id": "6960ce61-9dd8-49dd-940b-e8ca95ba9b36",
   "metadata": {},
   "outputs": [],
   "source": []
  },
  {
   "cell_type": "code",
   "execution_count": 1,
   "id": "2beafb5b-4b59-4aab-bf86-ea9d1cca4085",
   "metadata": {},
   "outputs": [
    {
     "data": {
      "text/plain": [
       "<firebase_admin.App at 0x218c1595310>"
      ]
     },
     "execution_count": 1,
     "metadata": {},
     "output_type": "execute_result"
    }
   ],
   "source": [
    "import os \n",
    "from pathlib import Path\n",
    "path = Path(os.getcwd())\n",
    "database_url = \"https://atssa-a5257-default-rtdb.firebaseio.com/\"\n",
    "from firebase_admin import credentials \n",
    "from firebase_admin import db \n",
    "import firebase_admin\n",
    "service_path = os.path.join(path, os.sep.join([\"credentials\", \"serviceAccountKey.json\"]))\n",
    "cred = credentials.Certificate(service_path)\n",
    "firebase_admin.initialize_app(cred,\n",
    "                             {'databaseURL':'https://atssa-a5257-default-rtdb.firebaseio.com/'})\n"
   ]
  },
  {
   "cell_type": "code",
   "execution_count": 2,
   "id": "bb53216f-feb1-4e81-80a7-df5b123dc218",
   "metadata": {
    "tags": []
   },
   "outputs": [],
   "source": [
    "ref = db.reference('test/')\n",
    "users_ref = ref.child('users')\n",
    "users_ref.set({\n",
    "    'alan': {\n",
    "        'data_of_birth': 'march 23,1912',\n",
    "        'full_name': 'zerui ji'\n",
    "    }\n",
    "}\n",
    ")"
   ]
  },
  {
   "cell_type": "code",
   "execution_count": 3,
   "id": "92a34e84-2420-4845-9410-80e02206b185",
   "metadata": {},
   "outputs": [],
   "source": [
    "from Code.NewsClustering.open_api import OpenAISummarization"
   ]
  },
  {
   "cell_type": "code",
   "execution_count": 31,
   "id": "49316927-56e2-4849-9371-14a2dd978ff2",
   "metadata": {
    "tags": []
   },
   "outputs": [],
   "source": [
    "article= \"Malaysia will take legal action against Facebook parent company, Meta Platforms, for failing to remove \\\"undesirable\\\" posts, particularly those related to race and religion. The Malaysian Communications and Multimedia Commission has accused Meta of failing to take sufficient action, despite repeated requests, to curb undesirable content relating to race, royalty, religion, defamation, impersonation, online gambling, and scam advertisements. This marks the strongest measure the country has taken against such content to date. Race and religion are sensitive issues in Malaysia, which has a majority of Muslim ethnic Malays, alongside significant ethnic Chinese and Indian minorities. Facebook is Malaysia's biggest social media platform, with an estimated 60% of the country's 33 million people having a registered account.\"\n",
    "article2 = \"KUALA LUMPUR, June 23 (Reuters) - Malaysia said on Friday it will take legal action against Facebook parent Meta Platforms (META.O) for failing to remove \\\"undesirable\\\" posts, the strongest measure the country has taken to date over such content.\\nPrime Minister Anwar Ibrahim's administration has vowed to curb what it calls provocative posts that touch on race and religion since coming to power in November after a closely fought election in the Southeast Asian nation that has led to a rise in ethnic tensions.\\nFacebook has recently been \\\"plagued by\\\" a significant volume of undesirable content relating to race, royalty, religion, defamation, impersonation, online gambling and scam advertisements, the Malaysian Communications and Multimedia Commission said in a statement.\\nIt said Meta had failed to take sufficient action despite its repeated requests and that legal action was necessary to promote accountability for cybersecurity and to protect consumers.\\nMeta did not respond to a request for comment.\\nAsked what legal action it might take, the commission said in an emailed statement on Saturday that allowing abuse of network facilities or application services can be offences under Malaysia's Communications and Multimedia Act 1998.\\nThe law also allows for officials of the company to be charged for \\\"wilfully providing means and aiding criminal activity\\\" if prompt action is not taken, it said.\\nRace and religion are thorny issues in Malaysia, which has a majority of Muslim ethnic Malays alongside significant ethnic Chinese and Indian minorities.\\nCommentary on the country's revered royals is also a sensitive issue, and negative remarks towards them can be tried under sedition laws.\\nThe action against Facebook comes just weeks ahead of elections in six states that are expected to pit Anwar's multi-ethnic coalition against a conservative Malay Muslim alliance.\\nFacebook is Malaysia's biggest social media platform, with an estimated 60% of the country's 33 million people having a registered account.\\nGlobally, big social media firms that include Meta, Google's YouTube and TikTok are often under regulatory scrutiny over content posted on their platforms.\\nSome Southeast Asian governments have frequently requested that content be taken down.\\nIn 2020, Vietnam threatened to shut down Facebook in the country if it did not agree to government demands to censor more local political content on its platform. The government said last year that social media platforms operating in Vietnam had removed more than 3,200 posts and videos in the first quarter that contained false information and violated the country's law.\\nIn Indonesia, Facebook in 2019 took down hundreds of local accounts, pages and groups linked to a fake news syndicate.\\nReporting by A. Ananthalakshmi; Editing Miyoung Kim, Edwina Gibbs and William Mallard\\n\\n\\n\\n\\n\\n\\n\\nOur Standards: The Thomson Reuters Trust Principles.\"\n",
    "\n"
   ]
  },
  {
   "cell_type": "code",
   "execution_count": 44,
   "id": "42982588-82bb-488d-afa9-7c28feac2f4e",
   "metadata": {
    "tags": []
   },
   "outputs": [],
   "source": [
    "message = \"return the following info in json format {summarization:summary of the paragraph, keywords:List of keywords for this paragraph, sentiment:sentiment base on Meta from 1 to 10(only a number)]\\n\"\n",
    "message += article2"
   ]
  },
  {
   "cell_type": "code",
   "execution_count": null,
   "id": "a8d5fb80-8de7-474f-8df2-f432d7e69b8f",
   "metadata": {
    "tags": []
   },
   "outputs": [],
   "source": []
  },
  {
   "cell_type": "code",
   "execution_count": null,
   "id": "f036966b-502d-4f92-aba0-a9cfd8f966d9",
   "metadata": {
    "tags": []
   },
   "outputs": [],
   "source": []
  },
  {
   "cell_type": "code",
   "execution_count": 51,
   "id": "1e3e0488-46f2-45ea-9258-a79851463173",
   "metadata": {
    "tags": []
   },
   "outputs": [],
   "source": [
    "p= OpenAISummarization(message = message, model_name = \"gpt-4\")"
   ]
  },
  {
   "cell_type": "code",
   "execution_count": 52,
   "id": "7d44795a-8365-4e9e-bb0d-1315eae1404a",
   "metadata": {
    "tags": []
   },
   "outputs": [],
   "source": [
    "result = p.message_summarization()\n"
   ]
  },
  {
   "cell_type": "code",
   "execution_count": 53,
   "id": "3b75abb8-e362-44d6-8f56-5cef3bff180a",
   "metadata": {
    "tags": []
   },
   "outputs": [
    {
     "data": {
      "text/plain": [
       "<OpenAIObject at 0x23075fff810> JSON: {\n",
       "  \"content\": \"{\\n  \\\"summarization\\\": \\\"Malaysia has announced it will take legal action against Facebook for failing to remove harrassing posts. The decision is part of an increased effort to curb provocative material often concerning race and religion. The Malaysian government has been increasingly concerned about inflammatory content and accuses Facebook's parent company Meta of failing to act sufficiently. Facebook is the largest social media platform in Malaysia, used by roughly 60% of the population. Global social media companies have frequently found themselves under increased regulation due to the content users post on their platforms.\\\",\\n  \\\"keywords\\\": [\\\"Malaysia\\\", \\\"Facebook\\\", \\\"Meta Platforms\\\", \\\"undesirable posts\\\", \\\"legal action\\\", \\\"race\\\", \\\"religion\\\", \\\"provocative posts\\\", \\\"Cybersecurity\\\", \\\"Communications and Multimedia Act 1998\\\", \\\"Muslim ethnic Malays\\\", \\\"ethnic Chinese\\\", \\\"Indian minorities\\\", \\\"sedition laws\\\", \\\"Anwar's multi-ethnic coalition\\\", \\\"social media platform\\\", \\\"regulatory scrutiny\\\"],\\n  \\\"sentiment\\\": 3\\n}\",\n",
       "  \"role\": \"assistant\"\n",
       "}"
      ]
     },
     "execution_count": 53,
     "metadata": {},
     "output_type": "execute_result"
    }
   ],
   "source": [
    "result"
   ]
  },
  {
   "cell_type": "code",
   "execution_count": 24,
   "id": "75c20427-8a55-4681-9030-f7c53cc06db9",
   "metadata": {
    "tags": []
   },
   "outputs": [],
   "source": [
    "message = \"based on this paragraph, what is the sentiment toward meta from 1-10, if 1 is the worst, 10 is the best, please return an integer or float\"\n",
    "message += article \n"
   ]
  },
  {
   "cell_type": "code",
   "execution_count": 25,
   "id": "74ff5738-02e6-45d3-8055-718cbc4f4cde",
   "metadata": {
    "tags": []
   },
   "outputs": [
    {
     "data": {
      "text/plain": [
       "<OpenAIObject at 0x23075fff6d0> JSON: {\n",
       "  \"content\": \"{\\\"summarization\\\": \\\"Malaysia is set to take legal action against Meta Platforms, the parent company of Facebook, for its failure to remove posts deemed undesirable by the country, especially posts concerning race and religion. The Malaysian Communications and Multimedia Commission has repeatedly requested Meta to take appropriate measures to control such content, but the response has been inadequate. Facebook is the primary social media platform in Malaysia, with around 60% of the nation's 33 million people having an account.\\\", \\n\\\"keywords\\\": [\\\"Malaysia\\\", \\\"legal action\\\", \\\"Meta Platforms\\\", \\\"Facebook\\\", \\\"remove\\\", \\\"undesirable posts\\\", \\\"race\\\", \\\"religion\\\", \\\"Malaysian Communications and Multimedia Commission\\\", \\\"inadequate response\\\", \\\"major social media platform\\\"], \\n\\\"sentiment\\\": \\\"Negative\\\"}\",\n",
       "  \"role\": \"assistant\"\n",
       "}"
      ]
     },
     "execution_count": 25,
     "metadata": {},
     "output_type": "execute_result"
    }
   ],
   "source": [
    "result\n"
   ]
  },
  {
   "cell_type": "code",
   "execution_count": 13,
   "id": "ab00f2ee-ff04-4a4f-80d3-ca30f70539a6",
   "metadata": {
    "tags": []
   },
   "outputs": [
    {
     "data": {
      "text/plain": [
       "<OpenAIObject at 0x23056285c20> JSON: {\n",
       "  \"content\": \"7.5\",\n",
       "  \"role\": \"assistant\"\n",
       "}"
      ]
     },
     "execution_count": 13,
     "metadata": {},
     "output_type": "execute_result"
    }
   ],
   "source": [
    "predict_message"
   ]
  },
  {
   "cell_type": "code",
   "execution_count": null,
   "id": "10ad9f25-2e12-476d-afc6-dcd8c79c505d",
   "metadata": {},
   "outputs": [],
   "source": []
  }
 ],
 "metadata": {
  "kernelspec": {
   "display_name": "Python 3 (ipykernel)",
   "language": "python",
   "name": "python3"
  },
  "language_info": {
   "codemirror_mode": {
    "name": "ipython",
    "version": 3
   },
   "file_extension": ".py",
   "mimetype": "text/x-python",
   "name": "python",
   "nbconvert_exporter": "python",
   "pygments_lexer": "ipython3",
   "version": "3.9.13"
  }
 },
 "nbformat": 4,
 "nbformat_minor": 5
}
